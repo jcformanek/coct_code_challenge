{
 "cells": [
  {
   "cell_type": "markdown",
   "metadata": {},
   "source": [
    "# COCT Data Scientist Code Challenge"
   ]
  },
  {
   "cell_type": "code",
   "execution_count": 2,
   "metadata": {},
   "outputs": [],
   "source": [
    "# Imports\n",
    "import requests\n",
    "import gzip\n",
    "import shutil\n",
    "from tqdm import tqdm\n",
    "import pandas as pd\n",
    "import matplotlib.pyplot as plt\n"
   ]
  },
  {
   "cell_type": "markdown",
   "metadata": {},
   "source": [
    "## Get Data\n",
    "Download the data."
   ]
  },
  {
   "cell_type": "code",
   "execution_count": 3,
   "metadata": {},
   "outputs": [],
   "source": [
    "def download_file(url, filename):\n",
    "    try:\n",
    "        response = requests.get(url, stream=True)\n",
    "        total_size = int(response.headers.get('content-length', 0))\n",
    "        response.raise_for_status()  # Raises an HTTPError for bad responses\n",
    "        \n",
    "        with open(filename, \"wb\") as file, tqdm(\n",
    "            desc=filename,\n",
    "            total=total_size,\n",
    "            unit='B',\n",
    "            unit_scale=True,\n",
    "            unit_divisor=1024,\n",
    "        ) as pbar:\n",
    "            for chunk in response.iter_content(chunk_size=8192):\n",
    "                file.write(chunk)\n",
    "                pbar.update(len(chunk))\n",
    "        \n",
    "        print(f\"Downloaded: {filename}\")\n",
    "        return True\n",
    "    \n",
    "    except requests.exceptions.RequestException as e:\n",
    "        print(f\"Error downloading {url}: {e}\")\n",
    "        return False\n",
    "    \n",
    "def uncompress_file(compressed_filename, uncompressed_filename):\n",
    "    with gzip.open(compressed_filename, 'rb') as f_in:\n",
    "        with open(uncompressed_filename, 'wb') as f_out:\n",
    "            shutil.copyfileobj(f_in, f_out)\n",
    "            \n",
    "    print(f\"Uncompressed: {compressed_filename} to {uncompressed_filename}\")\n",
    "    return True"
   ]
  },
  {
   "cell_type": "code",
   "execution_count": 4,
   "metadata": {},
   "outputs": [
    {
     "name": "stderr",
     "output_type": "stream",
     "text": [
      "sr_hex.csv.gz: 100%|██████████| 35.0M/35.0M [00:04<00:00, 7.77MB/s]\n"
     ]
    },
    {
     "name": "stdout",
     "output_type": "stream",
     "text": [
      "Downloaded: sr_hex.csv.gz\n",
      "Uncompressed: sr_hex.csv.gz to sr_hex.csv\n"
     ]
    },
    {
     "data": {
      "text/plain": [
       "True"
      ]
     },
     "execution_count": 4,
     "metadata": {},
     "output_type": "execute_result"
    }
   ],
   "source": [
    "DATA_URL = \"https://cct-ds-code-challenge-input-data.s3.af-south-1.amazonaws.com/sr_hex.csv.gz\"\n",
    "COMPRESSED_FILE_NAME = \"sr_hex.csv.gz\"\n",
    "UNCOMPRESSED_FILE_NAME = \"sr_hex.csv\"\n",
    "\n",
    "download_file(DATA_URL, COMPRESSED_FILE_NAME)\n",
    "\n",
    "uncompress_file(COMPRESSED_FILE_NAME, UNCOMPRESSED_FILE_NAME)"
   ]
  },
  {
   "cell_type": "markdown",
   "metadata": {},
   "source": [
    "## Initial Data Exploration\n",
    "\n",
    "* Print head\n",
    "* Print info\n"
   ]
  },
  {
   "cell_type": "code",
   "execution_count": 10,
   "metadata": {},
   "outputs": [
    {
     "data": {
      "text/html": [
       "<div>\n",
       "<style scoped>\n",
       "    .dataframe tbody tr th:only-of-type {\n",
       "        vertical-align: middle;\n",
       "    }\n",
       "\n",
       "    .dataframe tbody tr th {\n",
       "        vertical-align: top;\n",
       "    }\n",
       "\n",
       "    .dataframe thead th {\n",
       "        text-align: right;\n",
       "    }\n",
       "</style>\n",
       "<table border=\"1\" class=\"dataframe\">\n",
       "  <thead>\n",
       "    <tr style=\"text-align: right;\">\n",
       "      <th></th>\n",
       "      <th>notification_number</th>\n",
       "      <th>reference_number</th>\n",
       "      <th>creation_timestamp</th>\n",
       "      <th>completion_timestamp</th>\n",
       "      <th>directorate</th>\n",
       "      <th>department</th>\n",
       "      <th>branch</th>\n",
       "      <th>section</th>\n",
       "      <th>code_group</th>\n",
       "      <th>code</th>\n",
       "      <th>cause_code_group</th>\n",
       "      <th>cause_code</th>\n",
       "      <th>official_suburb</th>\n",
       "      <th>latitude</th>\n",
       "      <th>longitude</th>\n",
       "      <th>h3_level8_index</th>\n",
       "    </tr>\n",
       "  </thead>\n",
       "  <tbody>\n",
       "    <tr>\n",
       "      <th>0</th>\n",
       "      <td>400583534</td>\n",
       "      <td>9.109492e+09</td>\n",
       "      <td>2020-10-07 06:55:18+02:00</td>\n",
       "      <td>2020-10-08 15:36:35+02:00</td>\n",
       "      <td>URBAN MOBILITY</td>\n",
       "      <td>Roads Infrastructure Management</td>\n",
       "      <td>RIM Area Central</td>\n",
       "      <td>District: Blaauwberg</td>\n",
       "      <td>TD Customer complaint groups</td>\n",
       "      <td>Pothole&amp;Defect Road Foot Bic Way/Kerbs</td>\n",
       "      <td>Road (RCL)</td>\n",
       "      <td>Wear and tear</td>\n",
       "      <td>MONTAGUE GARDENS</td>\n",
       "      <td>-33.872839</td>\n",
       "      <td>18.522488</td>\n",
       "      <td>88ad360225fffff</td>\n",
       "    </tr>\n",
       "    <tr>\n",
       "      <th>1</th>\n",
       "      <td>400555043</td>\n",
       "      <td>9.108995e+09</td>\n",
       "      <td>2020-07-09 16:08:13+02:00</td>\n",
       "      <td>2020-07-14 14:27:01+02:00</td>\n",
       "      <td>URBAN MOBILITY</td>\n",
       "      <td>Roads Infrastructure Management</td>\n",
       "      <td>RIM Area East</td>\n",
       "      <td>District : Somerset West</td>\n",
       "      <td>TD Customer complaint groups</td>\n",
       "      <td>Manhole Cover/Gully Grid</td>\n",
       "      <td>Road (RCL)</td>\n",
       "      <td>Vandalism</td>\n",
       "      <td>SOMERSET WEST</td>\n",
       "      <td>-34.078916</td>\n",
       "      <td>18.848940</td>\n",
       "      <td>88ad36d5e1fffff</td>\n",
       "    </tr>\n",
       "    <tr>\n",
       "      <th>2</th>\n",
       "      <td>400589145</td>\n",
       "      <td>9.109614e+09</td>\n",
       "      <td>2020-10-27 10:21:59+02:00</td>\n",
       "      <td>2020-10-28 17:48:15+02:00</td>\n",
       "      <td>URBAN MOBILITY</td>\n",
       "      <td>Roads Infrastructure Management</td>\n",
       "      <td>RIM Area East</td>\n",
       "      <td>District : Somerset West</td>\n",
       "      <td>TD Customer complaint groups</td>\n",
       "      <td>Manhole Cover/Gully Grid</td>\n",
       "      <td>Road (RCL)</td>\n",
       "      <td>Vandalism</td>\n",
       "      <td>STRAND</td>\n",
       "      <td>-34.102242</td>\n",
       "      <td>18.821116</td>\n",
       "      <td>88ad36d437fffff</td>\n",
       "    </tr>\n",
       "    <tr>\n",
       "      <th>3</th>\n",
       "      <td>400538915</td>\n",
       "      <td>9.108601e+09</td>\n",
       "      <td>2020-03-19 06:36:06+02:00</td>\n",
       "      <td>2021-03-29 20:34:19+02:00</td>\n",
       "      <td>URBAN MOBILITY</td>\n",
       "      <td>Roads Infrastructure Management</td>\n",
       "      <td>RIM Area North</td>\n",
       "      <td>District : Bellville</td>\n",
       "      <td>TD Customer complaint groups</td>\n",
       "      <td>Paint Markings Lines&amp;Signs</td>\n",
       "      <td>Road Markings</td>\n",
       "      <td>Wear and tear</td>\n",
       "      <td>RAVENSMEAD</td>\n",
       "      <td>-33.920019</td>\n",
       "      <td>18.607209</td>\n",
       "      <td>88ad361133fffff</td>\n",
       "    </tr>\n",
       "    <tr>\n",
       "      <th>4</th>\n",
       "      <td>400568554</td>\n",
       "      <td>NaN</td>\n",
       "      <td>2020-08-25 09:48:42+02:00</td>\n",
       "      <td>2020-08-31 08:41:13+02:00</td>\n",
       "      <td>URBAN MOBILITY</td>\n",
       "      <td>Roads Infrastructure Management</td>\n",
       "      <td>RIM Area South</td>\n",
       "      <td>District : Athlone</td>\n",
       "      <td>TD Customer complaint groups</td>\n",
       "      <td>Pothole&amp;Defect Road Foot Bic Way/Kerbs</td>\n",
       "      <td>Road (RCL)</td>\n",
       "      <td>Surfacing failure</td>\n",
       "      <td>CLAREMONT</td>\n",
       "      <td>-33.987400</td>\n",
       "      <td>18.453760</td>\n",
       "      <td>88ad361709fffff</td>\n",
       "    </tr>\n",
       "  </tbody>\n",
       "</table>\n",
       "</div>"
      ],
      "text/plain": [
       "   notification_number  reference_number         creation_timestamp  \\\n",
       "0            400583534      9.109492e+09  2020-10-07 06:55:18+02:00   \n",
       "1            400555043      9.108995e+09  2020-07-09 16:08:13+02:00   \n",
       "2            400589145      9.109614e+09  2020-10-27 10:21:59+02:00   \n",
       "3            400538915      9.108601e+09  2020-03-19 06:36:06+02:00   \n",
       "4            400568554               NaN  2020-08-25 09:48:42+02:00   \n",
       "\n",
       "        completion_timestamp     directorate                       department  \\\n",
       "0  2020-10-08 15:36:35+02:00  URBAN MOBILITY  Roads Infrastructure Management   \n",
       "1  2020-07-14 14:27:01+02:00  URBAN MOBILITY  Roads Infrastructure Management   \n",
       "2  2020-10-28 17:48:15+02:00  URBAN MOBILITY  Roads Infrastructure Management   \n",
       "3  2021-03-29 20:34:19+02:00  URBAN MOBILITY  Roads Infrastructure Management   \n",
       "4  2020-08-31 08:41:13+02:00  URBAN MOBILITY  Roads Infrastructure Management   \n",
       "\n",
       "             branch                   section                    code_group  \\\n",
       "0  RIM Area Central      District: Blaauwberg  TD Customer complaint groups   \n",
       "1     RIM Area East  District : Somerset West  TD Customer complaint groups   \n",
       "2     RIM Area East  District : Somerset West  TD Customer complaint groups   \n",
       "3    RIM Area North      District : Bellville  TD Customer complaint groups   \n",
       "4    RIM Area South        District : Athlone  TD Customer complaint groups   \n",
       "\n",
       "                                     code cause_code_group         cause_code  \\\n",
       "0  Pothole&Defect Road Foot Bic Way/Kerbs       Road (RCL)      Wear and tear   \n",
       "1                Manhole Cover/Gully Grid       Road (RCL)          Vandalism   \n",
       "2                Manhole Cover/Gully Grid       Road (RCL)          Vandalism   \n",
       "3              Paint Markings Lines&Signs    Road Markings      Wear and tear   \n",
       "4  Pothole&Defect Road Foot Bic Way/Kerbs       Road (RCL)  Surfacing failure   \n",
       "\n",
       "    official_suburb   latitude  longitude  h3_level8_index  \n",
       "0  MONTAGUE GARDENS -33.872839  18.522488  88ad360225fffff  \n",
       "1     SOMERSET WEST -34.078916  18.848940  88ad36d5e1fffff  \n",
       "2            STRAND -34.102242  18.821116  88ad36d437fffff  \n",
       "3        RAVENSMEAD -33.920019  18.607209  88ad361133fffff  \n",
       "4         CLAREMONT -33.987400  18.453760  88ad361709fffff  "
      ]
     },
     "execution_count": 10,
     "metadata": {},
     "output_type": "execute_result"
    }
   ],
   "source": [
    "# Load into Dataframe and print head\n",
    "df = pd.read_csv('sr_hex.csv')\n",
    "df.head()"
   ]
  },
  {
   "cell_type": "code",
   "execution_count": 11,
   "metadata": {},
   "outputs": [
    {
     "name": "stdout",
     "output_type": "stream",
     "text": [
      "<class 'pandas.core.frame.DataFrame'>\n",
      "RangeIndex: 941634 entries, 0 to 941633\n",
      "Data columns (total 16 columns):\n",
      " #   Column                Non-Null Count   Dtype  \n",
      "---  ------                --------------   -----  \n",
      " 0   notification_number   941634 non-null  int64  \n",
      " 1   reference_number      592920 non-null  float64\n",
      " 2   creation_timestamp    941634 non-null  object \n",
      " 3   completion_timestamp  929442 non-null  object \n",
      " 4   directorate           932199 non-null  object \n",
      " 5   department            932180 non-null  object \n",
      " 6   branch                913233 non-null  object \n",
      " 7   section               848509 non-null  object \n",
      " 8   code_group            941634 non-null  object \n",
      " 9   code                  941634 non-null  object \n",
      " 10  cause_code_group      131117 non-null  object \n",
      " 11  cause_code            129669 non-null  object \n",
      " 12  official_suburb       729221 non-null  object \n",
      " 13  latitude              729270 non-null  float64\n",
      " 14  longitude             729270 non-null  float64\n",
      " 15  h3_level8_index       941634 non-null  object \n",
      "dtypes: float64(3), int64(1), object(12)\n",
      "memory usage: 114.9+ MB\n"
     ]
    }
   ],
   "source": [
    "# Print DataFrame info\n",
    "df.info()"
   ]
  },
  {
   "cell_type": "markdown",
   "metadata": {},
   "source": [
    "### Discussion\n",
    "We see there are 941,634 entries in the dataset, with 16 data columns. \n",
    "Several columns contain null values (e.g. reference_number, completion_timestamp, cause_code_group)."
   ]
  },
  {
   "cell_type": "markdown",
   "metadata": {},
   "source": [
    "### Group DF by Hex"
   ]
  },
  {
   "cell_type": "code",
   "execution_count": 16,
   "metadata": {},
   "outputs": [
    {
     "name": "stdout",
     "output_type": "stream",
     "text": [
      "Number of unique hex cells: 2083\n",
      "Average number of service requests per hex: 452.06\n",
      "\n",
      "Top 5 hex cells by number of service requests:\n",
      "h3_level8_index\n",
      "0                  212364\n",
      "88ad3612a9fffff      3815\n",
      "88ad361009fffff      3464\n",
      "88ad368985fffff      3393\n",
      "88ad361519fffff      2797\n",
      "dtype: int64\n",
      "\n",
      "Average number of service requests per hex (zero excluded): 350.27\n",
      "Median of hex counts (zero excluded): 160.0\n"
     ]
    },
    {
     "data": {
      "image/png": "[encoded data removed]",
      "text/plain": [
       "<Figure size 640x480 with 1 Axes>"
      ]
     },
     "metadata": {},
     "output_type": "display_data"
    }
   ],
   "source": [
    "# Group by h3_level8_index and get basic statistics\n",
    "hex_groups = df.groupby('h3_level8_index')\n",
    "\n",
    "# Display basic information about the grouped data\n",
    "print(f\"Number of unique hex cells: {len(hex_groups)}\")\n",
    "print(f\"Average number of service requests per hex: {len(df) / len(hex_groups):.2f}\")\n",
    "\n",
    "# Show first few groups with their counts\n",
    "hex_counts = hex_groups.size().sort_values(ascending=False)\n",
    "print(\"\\nTop 5 hex cells by number of service requests:\")\n",
    "print(hex_counts.head(5))\n",
    "\n",
    "# Drop the '0' hex cell\n",
    "df_no_zero = df[df['h3_level8_index'] != '0']\n",
    "hex_groups_no_zero = df_no_zero.groupby('h3_level8_index')\n",
    "print(f\"\\nAverage number of service requests per hex (zero excluded): {len(df_no_zero) / len(hex_groups_no_zero):.2f}\")\n",
    "\n",
    "# Get Median service requests per hex\n",
    "median_service_requests_per_hex = df_no_zero.groupby('h3_level8_index').size().median()\n",
    "print(f\"Median of hex counts (zero excluded): {median_service_requests_per_hex}\")\n",
    "\n",
    "hex_counts_no_zero = hex_groups_no_zero.size().sort_values(ascending=False)\n",
    "\n",
    "# Plot a histogram of the number of service requests per hex\n",
    "plt.hist(hex_counts_no_zero, bins=range(1, max(hex_counts_no_zero // 10) + 1), edgecolor='black')\n",
    "plt.title('Distribution of Service Requests per Hex')\n",
    "plt.xlabel('Number of Service Requests')\n",
    "plt.ylabel('Frequency')\n",
    "plt.show()"
   ]
  },
  {
   "cell_type": "markdown",
   "metadata": {},
   "source": [
    "### Discussion\n",
    "There are 2082 unique hex cells. \n",
    "The most frequently occuring one is labled '0' and referse to service request that were not assigned a hex. \n",
    "The top 4 valid hex values have between 2797 and 3815 service requests.  \n",
    "At first it seems on average a hex has 452 service requests.\n",
    "But this is being skewed by the '0' hex. \n",
    "When we exclude the '0' hex we see the mean number of service requests per hex is actually 350 and the median is 160. "
   ]
  },
  {
   "cell_type": "markdown",
   "metadata": {},
   "source": []
  }
 ],
 "metadata": {
  "kernelspec": {
   "display_name": "coct",
   "language": "python",
   "name": "python3"
  },
  "language_info": {
   "codemirror_mode": {
    "name": "ipython",
    "version": 3
   },
   "file_extension": ".py",
   "mimetype": "text/x-python",
   "name": "python",
   "nbconvert_exporter": "python",
   "pygments_lexer": "ipython3",
   "version": "3.11.13"
  }
 },
 "nbformat": 4,
 "nbformat_minor": 2
}
